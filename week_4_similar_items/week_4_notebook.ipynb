{
 "cells": [
  {
   "cell_type": "markdown",
   "id": "b9e5bdaf",
   "metadata": {},
   "source": [
    "# Week 4 Exercises"
   ]
  },
  {
   "cell_type": "markdown",
   "id": "e55cfc3d",
   "metadata": {},
   "source": [
    "## Exercise 1: Setup\n",
    "*Just setup*"
   ]
  },
  {
   "cell_type": "markdown",
   "id": "fe2fe0a4",
   "metadata": {},
   "source": [
    "## Exercise 2: $q$-shingles"
   ]
  },
  {
   "cell_type": "code",
   "execution_count": null,
   "id": "08dc028c",
   "metadata": {},
   "outputs": [],
   "source": [
    "# start here"
   ]
  }
 ],
 "metadata": {
  "kernelspec": {
   "display_name": ".venv (3.13.9)",
   "language": "python",
   "name": "python3"
  },
  "language_info": {
   "name": "python",
   "version": "3.13.9"
  }
 },
 "nbformat": 4,
 "nbformat_minor": 5
}
