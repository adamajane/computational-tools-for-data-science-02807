{
 "cells": [
  {
   "cell_type": "markdown",
   "id": "af796989",
   "metadata": {},
   "source": [
    "# Week 3 Exercises: MapReduce\n"
   ]
  },
  {
   "cell_type": "markdown",
   "id": "1b3f57a8",
   "metadata": {},
   "source": [
    "## Exercise 1: map and reduce functions\n"
   ]
  },
  {
   "cell_type": "code",
   "execution_count": 3,
   "id": "f711b163",
   "metadata": {},
   "outputs": [
    {
     "name": "stdout",
     "output_type": "stream",
     "text": [
      "Doubling function: [2, 4, 6, 8, 10]\n",
      "Rounding function [1, 2, 3, 4, 5]\n",
      "Sum using reduce: 15\n"
     ]
    }
   ],
   "source": [
    "from functools import reduce\n",
    "\n",
    "# from collections import defaultdict\n",
    "\n",
    "numbers = [1, 2, 3, 4, 5]\n",
    "numbers_2 = [0.99, 1.99, 2.99, 3.99, 4.99]\n",
    "\n",
    "double_number = lambda x: x * 2\n",
    "\n",
    "print(\"Doubling function:\", list(map(double_number, numbers)))\n",
    "print(\"Rounding function\", list(map(round, numbers)))\n",
    "print(\"Sum using reduce:\", reduce(lambda x, y: x + y, numbers))"
   ]
  },
  {
   "cell_type": "markdown",
   "id": "c759178d",
   "metadata": {},
   "source": [
    "## Exercise 2: Word Frequency\n"
   ]
  },
  {
   "cell_type": "code",
   "execution_count": 7,
   "id": "d65f16a9",
   "metadata": {},
   "outputs": [
    {
     "data": {
      "text/plain": [
       "{'apple': 6,\n",
       " 'banana': 4,\n",
       " 'repeat': 4,\n",
       " 'cat': 3,\n",
       " 'python': 3,\n",
       " 'code': 3,\n",
       " 'test': 3,\n",
       " 'the': 3,\n",
       " 'orange': 2,\n",
       " 'hello': 2,\n",
       " 'word': 2,\n",
       " 'frequency': 2,\n",
       " 'openai': 2,\n",
       " 'gpt': 2,\n",
       " 'and': 2,\n",
       " 'once': 2,\n",
       " 'dog': 1,\n",
       " 'bird': 1,\n",
       " 'world': 1,\n",
       " 'this': 1,\n",
       " 'is': 1,\n",
       " 'a': 1,\n",
       " 'simple': 1,\n",
       " 'text': 1,\n",
       " 'file': 1,\n",
       " 'for': 1,\n",
       " 'testing': 1,\n",
       " 'counting': 1,\n",
       " 'but': 1,\n",
       " 'or': 1,\n",
       " 'not': 1,\n",
       " 'yes': 1,\n",
       " 'no': 1,\n",
       " 'maybe': 1,\n",
       " 'twice': 1}"
      ]
     },
     "execution_count": 7,
     "metadata": {},
     "output_type": "execute_result"
    }
   ],
   "source": [
    "from functools import reduce\n",
    "from collections import defaultdict\n",
    "\n",
    "words = []\n",
    "\n",
    "\n",
    "def word_counter(filename):\n",
    "    file = open(filename)\n",
    "    for line in file:\n",
    "        if line.strip() != \" \":\n",
    "            words.extend(line.strip().split())\n",
    "    return words\n",
    "\n",
    "\n",
    "word_counter(\"word_frequency_test.txt\")\n",
    "\n",
    "# Alternatively for a string (not text from a file)\n",
    "\"\"\"\n",
    "# String\n",
    "# text = \"the quick brown fox jumps over the lazy dog the fox was quick\"\n",
    "\n",
    "# Splitting\n",
    "# words = text.split()\n",
    "\"\"\"\n",
    "\n",
    "# Mapping step\n",
    "mapped_words = list(map(lambda word: (word, 1), words))\n",
    "\n",
    "\n",
    "# Reducing step\n",
    "def reducer(acc, pair):\n",
    "    word, count = pair\n",
    "    acc[word] += count\n",
    "    return acc\n",
    "\n",
    "\n",
    "word_freq = reduce(reducer, mapped_words, defaultdict(int))\n",
    "\n",
    "# Converting to normal dictionary\n",
    "word_freq = dict(sorted(word_freq.items(), key=lambda item: item[1], reverse=True))\n",
    "word_freq"
   ]
  },
  {
   "cell_type": "markdown",
   "id": "585c0c06",
   "metadata": {},
   "source": [
    "## Exercise 3: Inverted Index"
   ]
  },
  {
   "cell_type": "code",
   "execution_count": 14,
   "id": "1b20dae3",
   "metadata": {},
   "outputs": [
    {
     "data": {
      "text/plain": [
       "{'dog': ['doc2', 'doc1'],\n",
       " 'cat': ['doc3', 'doc1'],\n",
       " 'fox': ['doc2'],\n",
       " 'mouse': ['doc3']}"
      ]
     },
     "execution_count": 14,
     "metadata": {},
     "output_type": "execute_result"
    }
   ],
   "source": [
    "from functools import reduce\n",
    "from collections import defaultdict\n",
    "import os\n",
    "\n",
    "# filenames = [\"inverted_index_test_1.txt\", \"inverted_index_test_2.txt\"]\n",
    "\n",
    "documents = {\"doc1\": \"dog cat\", \"doc2\": \"dog fox\", \"doc3\": \"cat mouse\"}\n",
    "\n",
    "\n",
    "\"\"\"\n",
    "def read_file_content(docs):\n",
    "    words = {}\n",
    "    for doc in docs:\n",
    "        with open(doc) as d:\n",
    "            for line in d:\n",
    "                (key, val) = line.split()\n",
    "                words[int(key)] = val\n",
    "    for i in files:\n",
    "        file = open(i)\n",
    "        words.append(file.read().split())\n",
    "    return words\n",
    "\"\"\"\n",
    "\n",
    "\n",
    "# Mapping\n",
    "\"\"\"\n",
    "is_in = lambda doc_id_content: [\n",
    "    (word, doc_id_content[0]) for word in doc_id_content[1]\n",
    "].split()\n",
    "mapping = list(map(is_in, file_contents))\n",
    "print(mapping)\n",
    "\"\"\"\n",
    "\n",
    "\n",
    "mapped_words = list(\n",
    "    map(\n",
    "        lambda doc_id_content: [\n",
    "            (word, doc_id_content[0]) for word in doc_id_content[1].split()\n",
    "        ],\n",
    "        documents.items(),\n",
    "    )\n",
    ")\n",
    "mapped_words = [\n",
    "    item for sublist in mapped_words for item in sublist\n",
    "]  # Flatten the list of lists\n",
    "\n",
    "\n",
    "# Step 2: Reduce phase - Use reduce to group document_ids for each word\n",
    "def reducer(acc, pair):\n",
    "    word, doc_id = pair\n",
    "    acc[word].add(doc_id)\n",
    "    return acc\n",
    "\n",
    "\n",
    "# Reduce to aggregate the document lists for each word\n",
    "inverted_index = reduce(reducer, mapped_words, defaultdict(set))\n",
    "\n",
    "# Convert sets to lists for better readability\n",
    "inverted_index = {word: list(docs) for word, docs in inverted_index.items()}\n",
    "\n",
    "# Display the result\n",
    "inverted_index"
   ]
  }
 ],
 "metadata": {
  "kernelspec": {
   "display_name": ".venv (3.13.8)",
   "language": "python",
   "name": "python3"
  },
  "language_info": {
   "codemirror_mode": {
    "name": "ipython",
    "version": 3
   },
   "file_extension": ".py",
   "mimetype": "text/x-python",
   "name": "python",
   "nbconvert_exporter": "python",
   "pygments_lexer": "ipython3",
   "version": "3.13.8"
  }
 },
 "nbformat": 4,
 "nbformat_minor": 5
}
