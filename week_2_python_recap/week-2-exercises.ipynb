{
 "cells": [
  {
   "cell_type": "markdown",
   "id": "2468a2c0",
   "metadata": {},
   "source": [
    "# Week 2 Exercises: Python Recap"
   ]
  },
  {
   "cell_type": "markdown",
   "id": "2ab4e11e",
   "metadata": {},
   "source": [
    "## Exercises 1-3\n",
    "See exercise sheet 2 in Obsidian"
   ]
  },
  {
   "cell_type": "markdown",
   "id": "9dbe9234",
   "metadata": {},
   "source": [
    "## Exercise 4: NumpPy package"
   ]
  },
  {
   "cell_type": "code",
   "execution_count": 34,
   "id": "fb5b67de",
   "metadata": {},
   "outputs": [
    {
     "name": "stdout",
     "output_type": "stream",
     "text": [
      "[[ 1.  2.  3.  4.]\n",
      " [ 6.  9. 12.  7.]\n",
      " [ 2.  0.  9. 10.]]\n",
      "A:\n",
      " [[ 1.  2.  3.]\n",
      " [ 6.  9. 12.]\n",
      " [ 2.  0.  9.]]\n",
      "b:\n",
      " [ 4.  7. 10.]\n",
      "[-5.09090909  1.18181818  2.24242424]\n"
     ]
    }
   ],
   "source": [
    "import numpy as np\n",
    "\n",
    "matrix = np.loadtxt(\"matrix.txt\", usecols=range(4), delimiter=\",\")\n",
    "\n",
    "print(matrix)\n",
    "\n",
    "A = matrix[:, :-1]\n",
    "b = matrix[:, -1]\n",
    "\n",
    "print(\"A:\\n\", A)\n",
    "print(\"b:\\n\", b)\n",
    "\n",
    "linear_solve = np.linalg.solve(A, b)\n",
    "print(linear_solve)"
   ]
  },
  {
   "cell_type": "markdown",
   "id": "1d83e220",
   "metadata": {},
   "source": [
    "## Exercise 5: SciPy package"
   ]
  },
  {
   "cell_type": "code",
   "execution_count": null,
   "id": "5526b998",
   "metadata": {},
   "outputs": [
    {
     "name": "stdout",
     "output_type": "stream",
     "text": [
      "x: [-20. -19. -18. -17. -16. -15. -14. -13. -12. -11. -10.  -9.  -8.  -7.\n",
      "  -6.  -5.  -4.  -3.  -2.  -1.   0.   1.   2.   3.   4.   5.   6.   7.\n",
      "   8.   9.  10.  11.  12.  13.  14.  15.  16.  17.  18.  19.]\n",
      "y: [-2.35552551e+04 -2.01733974e+04 -1.71323838e+04 -1.44110122e+04\n",
      " -1.19955143e+04 -9.86656080e+03 -8.00320517e+03 -6.39133487e+03\n",
      " -5.01146273e+03 -3.84672650e+03 -2.87544385e+03 -2.08452334e+03\n",
      " -1.45139187e+03 -9.62410182e+02 -5.95527093e+02 -3.36594621e+02\n",
      " -1.64079981e+02 -6.23865272e+01 -1.14248728e+01  3.06432478e+00\n",
      "  4.20759723e+00  6.21613879e+00  2.76438529e+01  8.81769919e+01\n",
      "  2.04004215e+02  3.93974857e+02  6.76404801e+02  1.06792294e+03\n",
      "  1.58779539e+03  2.25439824e+03  3.08445831e+03  4.09565592e+03\n",
      "  5.30724684e+03  6.73759055e+03  8.40459369e+03  1.03235165e+04\n",
      "  1.25152158e+04  1.49981211e+04  1.77885813e+04  2.09044423e+04]\n"
     ]
    }
   ],
   "source": [
    "import scipy as sp\n",
    "from scipy.optimize import fsolve\n",
    "\n",
    "points = np.loadtxt(\"points.txt\")\n",
    "x = points[:, 0]\n",
    "y = points[:, 1]"
   ]
  }
 ],
 "metadata": {
  "kernelspec": {
   "display_name": ".venv (3.13.7)",
   "language": "python",
   "name": "python3"
  },
  "language_info": {
   "codemirror_mode": {
    "name": "ipython",
    "version": 3
   },
   "file_extension": ".py",
   "mimetype": "text/x-python",
   "name": "python",
   "nbconvert_exporter": "python",
   "pygments_lexer": "ipython3",
   "version": "3.13.7"
  }
 },
 "nbformat": 4,
 "nbformat_minor": 5
}
